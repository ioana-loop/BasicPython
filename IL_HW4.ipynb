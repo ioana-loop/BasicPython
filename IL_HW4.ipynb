{
 "cells": [
  {
   "cell_type": "markdown",
   "metadata": {},
   "source": [
    "# Homework 4 - Data Visualization and Pandas\n",
    "\n",
    "## Name:\n",
    "## Collaborators:"
   ]
  },
  {
   "cell_type": "code",
   "execution_count": 2,
   "metadata": {},
   "outputs": [],
   "source": [
    "#Importing libraries\n",
    "\n",
    "import pandas as pd\n",
    "import numpy as np\n",
    "import matplotlib as mpl\n",
    "import matplotlib.pyplot as plt\n",
    "import seaborn as sns"
   ]
  },
  {
   "cell_type": "markdown",
   "metadata": {},
   "source": [
    "## Question 1\n",
    "\n",
    "Load the Global Superstore csv file into a dataframe and view the last 10 rows of the data"
   ]
  },
  {
   "cell_type": "code",
   "execution_count": 5,
   "metadata": {},
   "outputs": [
    {
     "data": {
      "text/html": [
       "<div>\n",
       "<style scoped>\n",
       "    .dataframe tbody tr th:only-of-type {\n",
       "        vertical-align: middle;\n",
       "    }\n",
       "\n",
       "    .dataframe tbody tr th {\n",
       "        vertical-align: top;\n",
       "    }\n",
       "\n",
       "    .dataframe thead th {\n",
       "        text-align: right;\n",
       "    }\n",
       "</style>\n",
       "<table border=\"1\" class=\"dataframe\">\n",
       "  <thead>\n",
       "    <tr style=\"text-align: right;\">\n",
       "      <th></th>\n",
       "      <th>Row ID</th>\n",
       "      <th>Order ID</th>\n",
       "      <th>Order Date</th>\n",
       "      <th>Ship Date</th>\n",
       "      <th>Ship Mode</th>\n",
       "      <th>Customer ID</th>\n",
       "      <th>Customer Name</th>\n",
       "      <th>Segment</th>\n",
       "      <th>City</th>\n",
       "      <th>State</th>\n",
       "      <th>...</th>\n",
       "      <th>Product ID</th>\n",
       "      <th>Category</th>\n",
       "      <th>Sub-Category</th>\n",
       "      <th>Product Name</th>\n",
       "      <th>Sales</th>\n",
       "      <th>Quantity</th>\n",
       "      <th>Discount</th>\n",
       "      <th>Profit</th>\n",
       "      <th>Shipping Cost</th>\n",
       "      <th>Order Priority</th>\n",
       "    </tr>\n",
       "  </thead>\n",
       "  <tbody>\n",
       "    <tr>\n",
       "      <th>51280</th>\n",
       "      <td>46582</td>\n",
       "      <td>TU-2014-6730</td>\n",
       "      <td>29/11/14</td>\n",
       "      <td>30/11/14</td>\n",
       "      <td>First Class</td>\n",
       "      <td>KF-6285</td>\n",
       "      <td>Karen Ferguson</td>\n",
       "      <td>Home Office</td>\n",
       "      <td>Midyat</td>\n",
       "      <td>Mardin</td>\n",
       "      <td>...</td>\n",
       "      <td>OFF-BOS-10000350</td>\n",
       "      <td>Office Supplies</td>\n",
       "      <td>Art</td>\n",
       "      <td>Boston Pens, Blue</td>\n",
       "      <td>34.128</td>\n",
       "      <td>6</td>\n",
       "      <td>0.6</td>\n",
       "      <td>-49.5720</td>\n",
       "      <td>0.02</td>\n",
       "      <td>Medium</td>\n",
       "    </tr>\n",
       "    <tr>\n",
       "      <th>51281</th>\n",
       "      <td>6039</td>\n",
       "      <td>MX-2014-169530</td>\n",
       "      <td>09/06/14</td>\n",
       "      <td>11/06/14</td>\n",
       "      <td>First Class</td>\n",
       "      <td>HG-15025</td>\n",
       "      <td>Hunter Glantz</td>\n",
       "      <td>Consumer</td>\n",
       "      <td>Bragança Paulista</td>\n",
       "      <td>São Paulo</td>\n",
       "      <td>...</td>\n",
       "      <td>OFF-PA-10002418</td>\n",
       "      <td>Office Supplies</td>\n",
       "      <td>Paper</td>\n",
       "      <td>Green Bar Message Books, Multicolor</td>\n",
       "      <td>84.000</td>\n",
       "      <td>5</td>\n",
       "      <td>0.0</td>\n",
       "      <td>9.2000</td>\n",
       "      <td>0.02</td>\n",
       "      <td>High</td>\n",
       "    </tr>\n",
       "    <tr>\n",
       "      <th>51282</th>\n",
       "      <td>9922</td>\n",
       "      <td>MX-2012-100258</td>\n",
       "      <td>28/12/12</td>\n",
       "      <td>31/12/12</td>\n",
       "      <td>First Class</td>\n",
       "      <td>KM-16375</td>\n",
       "      <td>Katherine Murray</td>\n",
       "      <td>Home Office</td>\n",
       "      <td>Managua</td>\n",
       "      <td>Managua</td>\n",
       "      <td>...</td>\n",
       "      <td>OFF-PA-10004020</td>\n",
       "      <td>Office Supplies</td>\n",
       "      <td>Paper</td>\n",
       "      <td>SanDisk Message Books, 8.5 x 11</td>\n",
       "      <td>18.640</td>\n",
       "      <td>1</td>\n",
       "      <td>0.0</td>\n",
       "      <td>8.0000</td>\n",
       "      <td>0.01</td>\n",
       "      <td>Medium</td>\n",
       "    </tr>\n",
       "    <tr>\n",
       "      <th>51283</th>\n",
       "      <td>24105</td>\n",
       "      <td>IN-2014-72327</td>\n",
       "      <td>30/05/14</td>\n",
       "      <td>30/05/14</td>\n",
       "      <td>Same Day</td>\n",
       "      <td>KH-16330</td>\n",
       "      <td>Katharine Harms</td>\n",
       "      <td>Corporate</td>\n",
       "      <td>Lucknow</td>\n",
       "      <td>Uttar Pradesh</td>\n",
       "      <td>...</td>\n",
       "      <td>OFF-PA-10000215</td>\n",
       "      <td>Office Supplies</td>\n",
       "      <td>Paper</td>\n",
       "      <td>Eaton Parchment Paper, Premium</td>\n",
       "      <td>26.940</td>\n",
       "      <td>2</td>\n",
       "      <td>0.0</td>\n",
       "      <td>1.8600</td>\n",
       "      <td>0.01</td>\n",
       "      <td>High</td>\n",
       "    </tr>\n",
       "    <tr>\n",
       "      <th>51284</th>\n",
       "      <td>24175</td>\n",
       "      <td>IN-2014-57662</td>\n",
       "      <td>05/08/14</td>\n",
       "      <td>10/08/14</td>\n",
       "      <td>Standard Class</td>\n",
       "      <td>DB-13270</td>\n",
       "      <td>Deborah Brumfield</td>\n",
       "      <td>Home Office</td>\n",
       "      <td>Townsville</td>\n",
       "      <td>Queensland</td>\n",
       "      <td>...</td>\n",
       "      <td>OFF-BI-10002424</td>\n",
       "      <td>Office Supplies</td>\n",
       "      <td>Binders</td>\n",
       "      <td>Avery Binder, Economy</td>\n",
       "      <td>58.050</td>\n",
       "      <td>5</td>\n",
       "      <td>0.1</td>\n",
       "      <td>19.9500</td>\n",
       "      <td>0.01</td>\n",
       "      <td>Medium</td>\n",
       "    </tr>\n",
       "    <tr>\n",
       "      <th>51285</th>\n",
       "      <td>29002</td>\n",
       "      <td>IN-2014-62366</td>\n",
       "      <td>19/06/14</td>\n",
       "      <td>19/06/14</td>\n",
       "      <td>Same Day</td>\n",
       "      <td>KE-16420</td>\n",
       "      <td>Katrina Edelman</td>\n",
       "      <td>Corporate</td>\n",
       "      <td>Kure</td>\n",
       "      <td>Hiroshima</td>\n",
       "      <td>...</td>\n",
       "      <td>OFF-FA-10000746</td>\n",
       "      <td>Office Supplies</td>\n",
       "      <td>Fasteners</td>\n",
       "      <td>Advantus Thumb Tacks, 12 Pack</td>\n",
       "      <td>65.100</td>\n",
       "      <td>5</td>\n",
       "      <td>0.0</td>\n",
       "      <td>4.5000</td>\n",
       "      <td>0.01</td>\n",
       "      <td>Medium</td>\n",
       "    </tr>\n",
       "    <tr>\n",
       "      <th>51286</th>\n",
       "      <td>35398</td>\n",
       "      <td>US-2014-102288</td>\n",
       "      <td>20/06/14</td>\n",
       "      <td>24/06/14</td>\n",
       "      <td>Standard Class</td>\n",
       "      <td>ZC-21910</td>\n",
       "      <td>Zuschuss Carroll</td>\n",
       "      <td>Consumer</td>\n",
       "      <td>Houston</td>\n",
       "      <td>Texas</td>\n",
       "      <td>...</td>\n",
       "      <td>OFF-AP-10002906</td>\n",
       "      <td>Office Supplies</td>\n",
       "      <td>Appliances</td>\n",
       "      <td>Hoover Replacement Belt for Commercial Guardsm...</td>\n",
       "      <td>0.444</td>\n",
       "      <td>1</td>\n",
       "      <td>0.8</td>\n",
       "      <td>-1.1100</td>\n",
       "      <td>0.01</td>\n",
       "      <td>Medium</td>\n",
       "    </tr>\n",
       "    <tr>\n",
       "      <th>51287</th>\n",
       "      <td>40470</td>\n",
       "      <td>US-2013-155768</td>\n",
       "      <td>02/12/13</td>\n",
       "      <td>02/12/13</td>\n",
       "      <td>Same Day</td>\n",
       "      <td>LB-16795</td>\n",
       "      <td>Laurel Beltran</td>\n",
       "      <td>Home Office</td>\n",
       "      <td>Oxnard</td>\n",
       "      <td>California</td>\n",
       "      <td>...</td>\n",
       "      <td>OFF-EN-10001219</td>\n",
       "      <td>Office Supplies</td>\n",
       "      <td>Envelopes</td>\n",
       "      <td>#10- 4 1/8\" x 9 1/2\" Security-Tint Envelopes</td>\n",
       "      <td>22.920</td>\n",
       "      <td>3</td>\n",
       "      <td>0.0</td>\n",
       "      <td>11.2308</td>\n",
       "      <td>0.01</td>\n",
       "      <td>High</td>\n",
       "    </tr>\n",
       "    <tr>\n",
       "      <th>51288</th>\n",
       "      <td>9596</td>\n",
       "      <td>MX-2012-140767</td>\n",
       "      <td>18/02/12</td>\n",
       "      <td>22/02/12</td>\n",
       "      <td>Standard Class</td>\n",
       "      <td>RB-19795</td>\n",
       "      <td>Ross Baird</td>\n",
       "      <td>Home Office</td>\n",
       "      <td>Valinhos</td>\n",
       "      <td>São Paulo</td>\n",
       "      <td>...</td>\n",
       "      <td>OFF-BI-10000806</td>\n",
       "      <td>Office Supplies</td>\n",
       "      <td>Binders</td>\n",
       "      <td>Acco Index Tab, Economy</td>\n",
       "      <td>13.440</td>\n",
       "      <td>2</td>\n",
       "      <td>0.0</td>\n",
       "      <td>2.4000</td>\n",
       "      <td>0.00</td>\n",
       "      <td>Medium</td>\n",
       "    </tr>\n",
       "    <tr>\n",
       "      <th>51289</th>\n",
       "      <td>6147</td>\n",
       "      <td>MX-2012-134460</td>\n",
       "      <td>22/05/12</td>\n",
       "      <td>26/05/12</td>\n",
       "      <td>Second Class</td>\n",
       "      <td>MC-18100</td>\n",
       "      <td>Mick Crebagga</td>\n",
       "      <td>Consumer</td>\n",
       "      <td>Tipitapa</td>\n",
       "      <td>Managua</td>\n",
       "      <td>...</td>\n",
       "      <td>OFF-PA-10004155</td>\n",
       "      <td>Office Supplies</td>\n",
       "      <td>Paper</td>\n",
       "      <td>Eaton Computer Printout Paper, 8.5 x 11</td>\n",
       "      <td>61.380</td>\n",
       "      <td>3</td>\n",
       "      <td>0.0</td>\n",
       "      <td>1.8000</td>\n",
       "      <td>0.00</td>\n",
       "      <td>High</td>\n",
       "    </tr>\n",
       "  </tbody>\n",
       "</table>\n",
       "<p>10 rows × 24 columns</p>\n",
       "</div>"
      ],
      "text/plain": [
       "       Row ID        Order ID Order Date Ship Date       Ship Mode  \\\n",
       "51280   46582    TU-2014-6730   29/11/14  30/11/14     First Class   \n",
       "51281    6039  MX-2014-169530   09/06/14  11/06/14     First Class   \n",
       "51282    9922  MX-2012-100258   28/12/12  31/12/12     First Class   \n",
       "51283   24105   IN-2014-72327   30/05/14  30/05/14        Same Day   \n",
       "51284   24175   IN-2014-57662   05/08/14  10/08/14  Standard Class   \n",
       "51285   29002   IN-2014-62366   19/06/14  19/06/14        Same Day   \n",
       "51286   35398  US-2014-102288   20/06/14  24/06/14  Standard Class   \n",
       "51287   40470  US-2013-155768   02/12/13  02/12/13        Same Day   \n",
       "51288    9596  MX-2012-140767   18/02/12  22/02/12  Standard Class   \n",
       "51289    6147  MX-2012-134460   22/05/12  26/05/12    Second Class   \n",
       "\n",
       "      Customer ID      Customer Name      Segment               City  \\\n",
       "51280     KF-6285     Karen Ferguson  Home Office             Midyat   \n",
       "51281    HG-15025      Hunter Glantz     Consumer  Bragança Paulista   \n",
       "51282    KM-16375   Katherine Murray  Home Office            Managua   \n",
       "51283    KH-16330    Katharine Harms    Corporate            Lucknow   \n",
       "51284    DB-13270  Deborah Brumfield  Home Office         Townsville   \n",
       "51285    KE-16420    Katrina Edelman    Corporate               Kure   \n",
       "51286    ZC-21910   Zuschuss Carroll     Consumer            Houston   \n",
       "51287    LB-16795     Laurel Beltran  Home Office             Oxnard   \n",
       "51288    RB-19795         Ross Baird  Home Office           Valinhos   \n",
       "51289    MC-18100      Mick Crebagga     Consumer           Tipitapa   \n",
       "\n",
       "               State  ...        Product ID         Category Sub-Category  \\\n",
       "51280         Mardin  ...  OFF-BOS-10000350  Office Supplies          Art   \n",
       "51281      São Paulo  ...   OFF-PA-10002418  Office Supplies        Paper   \n",
       "51282        Managua  ...   OFF-PA-10004020  Office Supplies        Paper   \n",
       "51283  Uttar Pradesh  ...   OFF-PA-10000215  Office Supplies        Paper   \n",
       "51284     Queensland  ...   OFF-BI-10002424  Office Supplies      Binders   \n",
       "51285      Hiroshima  ...   OFF-FA-10000746  Office Supplies    Fasteners   \n",
       "51286          Texas  ...   OFF-AP-10002906  Office Supplies   Appliances   \n",
       "51287     California  ...   OFF-EN-10001219  Office Supplies    Envelopes   \n",
       "51288      São Paulo  ...   OFF-BI-10000806  Office Supplies      Binders   \n",
       "51289        Managua  ...   OFF-PA-10004155  Office Supplies        Paper   \n",
       "\n",
       "                                            Product Name   Sales Quantity  \\\n",
       "51280                                  Boston Pens, Blue  34.128        6   \n",
       "51281                Green Bar Message Books, Multicolor  84.000        5   \n",
       "51282                    SanDisk Message Books, 8.5 x 11  18.640        1   \n",
       "51283                     Eaton Parchment Paper, Premium  26.940        2   \n",
       "51284                              Avery Binder, Economy  58.050        5   \n",
       "51285                      Advantus Thumb Tacks, 12 Pack  65.100        5   \n",
       "51286  Hoover Replacement Belt for Commercial Guardsm...   0.444        1   \n",
       "51287       #10- 4 1/8\" x 9 1/2\" Security-Tint Envelopes  22.920        3   \n",
       "51288                            Acco Index Tab, Economy  13.440        2   \n",
       "51289            Eaton Computer Printout Paper, 8.5 x 11  61.380        3   \n",
       "\n",
       "      Discount   Profit  Shipping Cost  Order Priority  \n",
       "51280      0.6 -49.5720           0.02          Medium  \n",
       "51281      0.0   9.2000           0.02            High  \n",
       "51282      0.0   8.0000           0.01          Medium  \n",
       "51283      0.0   1.8600           0.01            High  \n",
       "51284      0.1  19.9500           0.01          Medium  \n",
       "51285      0.0   4.5000           0.01          Medium  \n",
       "51286      0.8  -1.1100           0.01          Medium  \n",
       "51287      0.0  11.2308           0.01            High  \n",
       "51288      0.0   2.4000           0.00          Medium  \n",
       "51289      0.0   1.8000           0.00            High  \n",
       "\n",
       "[10 rows x 24 columns]"
      ]
     },
     "execution_count": 5,
     "metadata": {},
     "output_type": "execute_result"
    }
   ],
   "source": [
    "#Solution:\n",
    "\n",
    "df = pd.read_csv('Global Superstore.csv')\n",
    "df.tail(10)"
   ]
  },
  {
   "cell_type": "markdown",
   "metadata": {},
   "source": [
    "## Question 2\n",
    "\n",
    "Report the mean of Sales and std of Quantity columns"
   ]
  },
  {
   "cell_type": "code",
   "execution_count": 6,
   "metadata": {},
   "outputs": [
    {
     "data": {
      "text/html": [
       "<div>\n",
       "<style scoped>\n",
       "    .dataframe tbody tr th:only-of-type {\n",
       "        vertical-align: middle;\n",
       "    }\n",
       "\n",
       "    .dataframe tbody tr th {\n",
       "        vertical-align: top;\n",
       "    }\n",
       "\n",
       "    .dataframe thead th {\n",
       "        text-align: right;\n",
       "    }\n",
       "</style>\n",
       "<table border=\"1\" class=\"dataframe\">\n",
       "  <thead>\n",
       "    <tr style=\"text-align: right;\">\n",
       "      <th></th>\n",
       "      <th>Row ID</th>\n",
       "      <th>Postal Code</th>\n",
       "      <th>Sales</th>\n",
       "      <th>Quantity</th>\n",
       "      <th>Discount</th>\n",
       "      <th>Profit</th>\n",
       "      <th>Shipping Cost</th>\n",
       "    </tr>\n",
       "  </thead>\n",
       "  <tbody>\n",
       "    <tr>\n",
       "      <th>count</th>\n",
       "      <td>51290.00000</td>\n",
       "      <td>9994.000000</td>\n",
       "      <td>51290.000000</td>\n",
       "      <td>51290.000000</td>\n",
       "      <td>51290.000000</td>\n",
       "      <td>51290.000000</td>\n",
       "      <td>51290.000000</td>\n",
       "    </tr>\n",
       "    <tr>\n",
       "      <th>mean</th>\n",
       "      <td>25645.50000</td>\n",
       "      <td>55190.379428</td>\n",
       "      <td>246.490581</td>\n",
       "      <td>3.476545</td>\n",
       "      <td>0.142908</td>\n",
       "      <td>28.610982</td>\n",
       "      <td>26.375915</td>\n",
       "    </tr>\n",
       "    <tr>\n",
       "      <th>std</th>\n",
       "      <td>14806.29199</td>\n",
       "      <td>32063.693350</td>\n",
       "      <td>487.565361</td>\n",
       "      <td>2.278766</td>\n",
       "      <td>0.212280</td>\n",
       "      <td>174.340972</td>\n",
       "      <td>57.296804</td>\n",
       "    </tr>\n",
       "    <tr>\n",
       "      <th>min</th>\n",
       "      <td>1.00000</td>\n",
       "      <td>1040.000000</td>\n",
       "      <td>0.444000</td>\n",
       "      <td>1.000000</td>\n",
       "      <td>0.000000</td>\n",
       "      <td>-6599.978000</td>\n",
       "      <td>0.000000</td>\n",
       "    </tr>\n",
       "    <tr>\n",
       "      <th>25%</th>\n",
       "      <td>12823.25000</td>\n",
       "      <td>23223.000000</td>\n",
       "      <td>30.758625</td>\n",
       "      <td>2.000000</td>\n",
       "      <td>0.000000</td>\n",
       "      <td>0.000000</td>\n",
       "      <td>2.610000</td>\n",
       "    </tr>\n",
       "    <tr>\n",
       "      <th>50%</th>\n",
       "      <td>25645.50000</td>\n",
       "      <td>56430.500000</td>\n",
       "      <td>85.053000</td>\n",
       "      <td>3.000000</td>\n",
       "      <td>0.000000</td>\n",
       "      <td>9.240000</td>\n",
       "      <td>7.790000</td>\n",
       "    </tr>\n",
       "    <tr>\n",
       "      <th>75%</th>\n",
       "      <td>38467.75000</td>\n",
       "      <td>90008.000000</td>\n",
       "      <td>251.053200</td>\n",
       "      <td>5.000000</td>\n",
       "      <td>0.200000</td>\n",
       "      <td>36.810000</td>\n",
       "      <td>24.450000</td>\n",
       "    </tr>\n",
       "    <tr>\n",
       "      <th>max</th>\n",
       "      <td>51290.00000</td>\n",
       "      <td>99301.000000</td>\n",
       "      <td>22638.480000</td>\n",
       "      <td>14.000000</td>\n",
       "      <td>0.850000</td>\n",
       "      <td>8399.976000</td>\n",
       "      <td>933.570000</td>\n",
       "    </tr>\n",
       "  </tbody>\n",
       "</table>\n",
       "</div>"
      ],
      "text/plain": [
       "            Row ID   Postal Code         Sales      Quantity      Discount  \\\n",
       "count  51290.00000   9994.000000  51290.000000  51290.000000  51290.000000   \n",
       "mean   25645.50000  55190.379428    246.490581      3.476545      0.142908   \n",
       "std    14806.29199  32063.693350    487.565361      2.278766      0.212280   \n",
       "min        1.00000   1040.000000      0.444000      1.000000      0.000000   \n",
       "25%    12823.25000  23223.000000     30.758625      2.000000      0.000000   \n",
       "50%    25645.50000  56430.500000     85.053000      3.000000      0.000000   \n",
       "75%    38467.75000  90008.000000    251.053200      5.000000      0.200000   \n",
       "max    51290.00000  99301.000000  22638.480000     14.000000      0.850000   \n",
       "\n",
       "             Profit  Shipping Cost  \n",
       "count  51290.000000   51290.000000  \n",
       "mean      28.610982      26.375915  \n",
       "std      174.340972      57.296804  \n",
       "min    -6599.978000       0.000000  \n",
       "25%        0.000000       2.610000  \n",
       "50%        9.240000       7.790000  \n",
       "75%       36.810000      24.450000  \n",
       "max     8399.976000     933.570000  "
      ]
     },
     "execution_count": 6,
     "metadata": {},
     "output_type": "execute_result"
    }
   ],
   "source": [
    "#Code:\n",
    "\n",
    "df.describe()"
   ]
  },
  {
   "cell_type": "code",
   "execution_count": 7,
   "metadata": {},
   "outputs": [],
   "source": [
    "#Answer:\n",
    "\n",
    "#Mean of Sales - 246.49\n",
    "#S.D. of Quantity - 2.278766"
   ]
  },
  {
   "cell_type": "markdown",
   "metadata": {},
   "source": [
    "## Question 3\n",
    "\n",
    "Find the Category with highest average (mean) Sales\n",
    "\n",
    "(Hint: Use the groupby function)"
   ]
  },
  {
   "cell_type": "code",
   "execution_count": 8,
   "metadata": {},
   "outputs": [
    {
     "data": {
      "text/plain": [
       "Category\n",
       "Furniture          416.248905\n",
       "Office Supplies    121.097120\n",
       "Technology         467.858939\n",
       "Name: Sales, dtype: float64"
      ]
     },
     "execution_count": 8,
     "metadata": {},
     "output_type": "execute_result"
    }
   ],
   "source": [
    "#Code:\n",
    "\n",
    "df.groupby('Category')['Sales'].mean()"
   ]
  },
  {
   "cell_type": "code",
   "execution_count": 9,
   "metadata": {},
   "outputs": [],
   "source": [
    "#Answer: The category with highest average sales is Technology"
   ]
  },
  {
   "cell_type": "markdown",
   "metadata": {},
   "source": [
    "## Question 4\n",
    "\n",
    "Find the Sub-Category with maximum shipping cost"
   ]
  },
  {
   "cell_type": "code",
   "execution_count": 10,
   "metadata": {},
   "outputs": [
    {
     "data": {
      "text/plain": [
       "Sub-Category\n",
       "Accessories    933.57\n",
       "Appliances     804.54\n",
       "Art            179.84\n",
       "Binders        867.69\n",
       "Bookcases      658.35\n",
       "Chairs         923.63\n",
       "Copiers        903.04\n",
       "Envelopes      104.12\n",
       "Fasteners       87.09\n",
       "Furnishings    206.61\n",
       "Labels          77.93\n",
       "Machines       699.55\n",
       "Paper          141.52\n",
       "Phones         915.49\n",
       "Storage        506.49\n",
       "Supplies       846.54\n",
       "Tables         878.38\n",
       "Name: Shipping Cost, dtype: float64"
      ]
     },
     "execution_count": 10,
     "metadata": {},
     "output_type": "execute_result"
    }
   ],
   "source": [
    "#Code:\n",
    "df.groupby('Sub-Category')['Shipping Cost'].max()"
   ]
  },
  {
   "cell_type": "code",
   "execution_count": 11,
   "metadata": {},
   "outputs": [],
   "source": [
    "#Answer:\n",
    "#The Sub-Category with maximum shipping cost is Accessories"
   ]
  },
  {
   "cell_type": "markdown",
   "metadata": {},
   "source": [
    "## Question 5\n",
    "\n",
    "Create a new column 'Cost' where Cost is Sales divided by Quantity"
   ]
  },
  {
   "cell_type": "code",
   "execution_count": 12,
   "metadata": {},
   "outputs": [],
   "source": [
    "#Code:\n",
    "df['Cost'] = df['Sales'] / df['Quantity']"
   ]
  },
  {
   "cell_type": "markdown",
   "metadata": {},
   "source": [
    "## Question 6\n",
    "\n",
    "Make a line plot and show 'Sub-Category' with respect to the Sum of their 'Profits'.\n",
    "\n",
    "Your X axis should have Sub-Categories and Y axis should have the sum of profits.\n",
    "\n",
    "Make sure you label the plot (Title, XLabel, YLabel)\n",
    "\n",
    "Hint: Use .plot function"
   ]
  },
  {
   "cell_type": "code",
   "execution_count": 13,
   "metadata": {},
   "outputs": [
    {
     "data": {
      "image/png": "[encoded data removed]",
      "text/plain": [
       "<Figure size 864x576 with 1 Axes>"
      ]
     },
     "metadata": {
      "needs_background": "light"
     },
     "output_type": "display_data"
    }
   ],
   "source": [
    "#Code:\n",
    "#Line Plot - To Plot Sub-Category and Sum of their Profits\n",
    "\n",
    "plt.figure(figsize = (12,8))\n",
    "df.groupby(['Sub-Category']).sum()['Profit'].plot(color = 'green')\n",
    "plt.ylabel('Sum of Profit', fontsize=14)\n",
    "plt.title('Profit of Sub-Categories')\n",
    "plt.show()"
   ]
  },
  {
   "cell_type": "markdown",
   "metadata": {},
   "source": [
    "## Question 7\n",
    "\n",
    "Make a barplot of Order Priority with their Average Shipping Cost\n",
    "\n",
    "Your X axis should have different Order Priorities and Y axis should have Shipping Cost\n",
    "\n",
    "Make sure you label your axis\n",
    "\n",
    "Hint: Use sns.barplot()"
   ]
  },
  {
   "cell_type": "code",
   "execution_count": 14,
   "metadata": {},
   "outputs": [
    {
     "data": {
      "image/png": "[encoded data removed]",
      "text/plain": [
       "<Figure size 864x576 with 1 Axes>"
      ]
     },
     "metadata": {
      "needs_background": "light"
     },
     "output_type": "display_data"
    }
   ],
   "source": [
    "#Code:\n",
    "#Barplot showing order priority and average shipping cost\n",
    "\n",
    "plt.figure(figsize = (12,8))                                  #Setting size of the figure (12 - Width, 8 - Height)\n",
    "sns.barplot(\"Order Priority\", \"Shipping Cost\", data=df) \n",
    "plt.title('Shipping for different order types')               #Title\n",
    "plt.xlabel('Order Priority', fontsize=14)                     #Label for X axis\n",
    "plt.ylabel('Average Shipping Cost', fontsize=12)              #Label for Y axis\n",
    "plt.show()"
   ]
  },
  {
   "cell_type": "markdown",
   "metadata": {},
   "source": [
    "## Question 8\n",
    "\n",
    "Make a scatter plot showing Quantity (X Axis) and Profit (Y Axis)\n",
    "\n",
    "Use alpha = 0.7 and color = blue\n",
    "\n",
    "Hint: Use df.plot.scatter()"
   ]
  },
  {
   "cell_type": "code",
   "execution_count": 15,
   "metadata": {},
   "outputs": [
    {
     "data": {
      "image/png": "[encoded data removed]",
      "text/plain": [
       "<Figure size 432x288 with 1 Axes>"
      ]
     },
     "metadata": {
      "needs_background": "light"
     },
     "output_type": "display_data"
    }
   ],
   "source": [
    "#Code:\n",
    "#Scatter Plot\n",
    "\n",
    "df.plot.scatter('Quantity', 'Profit', alpha = 0.7, color = 'blue')\n",
    "plt.show()"
   ]
  },
  {
   "cell_type": "markdown",
   "metadata": {},
   "source": [
    "## Question 9\n",
    "\n",
    "Make a boxplot for showing Ship Mode and Shipping Cost\n",
    "\n",
    "The X axis should be Ship Mode and Y axis should be the Shipping Cost\n",
    "\n",
    "Hint: Use sns.boxplot()"
   ]
  },
  {
   "cell_type": "code",
   "execution_count": 17,
   "metadata": {},
   "outputs": [
    {
     "data": {
      "image/png": "[encoded data removed]",
      "text/plain": [
       "<Figure size 864x576 with 1 Axes>"
      ]
     },
     "metadata": {
      "needs_background": "light"
     },
     "output_type": "display_data"
    }
   ],
   "source": [
    "#Code:\n",
    "\n",
    "plt.figure(figsize = (12,8))\n",
    "sns.boxplot(x=\"Ship Mode\", y=\"Shipping Cost\", data=df, palette=\"Set2\")\n",
    "plt.show()"
   ]
  },
  {
   "cell_type": "markdown",
   "metadata": {},
   "source": [
    "## Question 10\n",
    "\n",
    "#Make a heatmap for checking the correlation between numerical variables"
   ]
  },
  {
   "cell_type": "code",
   "execution_count": 14,
   "metadata": {},
   "outputs": [
    {
     "data": {
      "image/png": "[encoded data removed]",
      "text/plain": [
       "<matplotlib.figure.Figure at 0x7fe0172907f0>"
      ]
     },
     "metadata": {},
     "output_type": "display_data"
    }
   ],
   "source": [
    "#Code:\n",
    "\n",
    "plt.figure(figsize = (12,8))\n",
    "corrplot = sns.heatmap(df.corr())\n",
    "corrplot.set_xticklabels(corrplot.get_xticklabels(), rotation = 45, horizontalalignment = 'right') #For X axis labels\n",
    "plt.show()"
   ]
  },
  {
   "cell_type": "code",
   "execution_count": null,
   "metadata": {},
   "outputs": [],
   "source": []
  }
 ],
 "metadata": {
  "kernelspec": {
   "display_name": "Python 3",
   "language": "python",
   "name": "python3"
  },
  "language_info": {
   "codemirror_mode": {
    "name": "ipython",
    "version": 3
   },
   "file_extension": ".py",
   "mimetype": "text/x-python",
   "name": "python",
   "nbconvert_exporter": "python",
   "pygments_lexer": "ipython3",
   "version": "3.7.4"
  }
 },
 "nbformat": 4,
 "nbformat_minor": 2
}
