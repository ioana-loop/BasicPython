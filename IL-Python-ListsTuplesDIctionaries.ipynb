{
 "cells": [
  {
   "cell_type": "markdown",
   "metadata": {},
   "source": [
    "# Basic Python Practice, Lists, Tuples, Dictionaries, Loops"
   ]
  },
  {
   "cell_type": "markdown",
   "metadata": {},
   "source": [
    "# Ioana Lupascu\n"
   ]
  },
  {
   "cell_type": "markdown",
   "metadata": {},
   "source": [
    "# Grading Note:\n",
    "\n",
    "All grading comments will have a ### triple pound sign in front of them. The grade breakdown will be 20,15,10,10,10,10,5,5,5, which adds to 90 so 10 points will be added on for free for turning in something."
   ]
  },
  {
   "cell_type": "code",
   "execution_count": 1,
   "metadata": {},
   "outputs": [],
   "source": [
    "dataset01 = [(6.5,2.8),\n",
    "(6.4,3.2),\n",
    "(4.6,3.4),\n",
    "(7,3.2),\n",
    "(4.9,3.1),\n",
    "(7.3,2.9),\n",
    "(5,3.6),\n",
    "(4.9,2.5),\n",
    "(4.7,3.2),\n",
    "(5.8,2.7),\n",
    "(6.9,3.1),\n",
    "(4.4,2.9),\n",
    "(5,3.4),\n",
    "(4.9,3),\n",
    "(7.2,3.6),\n",
    "(5.1,3.5),\n",
    "(5.5,2.3),\n",
    "(5.2,2.7),\n",
    "(6.5,3),\n",
    "(4.6,3.1),\n",
    "(5.4,3.9),\n",
    "(7.6,3),\n",
    "(7.1,3),\n",
    "(5.7,2.8),\n",
    "(4.9,2.4),\n",
    "(6.3,2.9),\n",
    "(6.7,2.5),\n",
    "(6.6,2.9),\n",
    "(6.3,3.3),\n",
    "(6.3,3.3)\n",
    "]"
   ]
  },
  {
   "cell_type": "code",
   "execution_count": 2,
   "metadata": {},
   "outputs": [
    {
     "name": "stdout",
     "output_type": "stream",
     "text": [
      "6.5\n",
      "2.8\n",
      "6.4\n",
      "3.2\n",
      "0.4123105625617663\n"
     ]
    }
   ],
   "source": [
    "###20/20\n",
    "\n",
    "#Question 1\n",
    "#Take the distance between the first two points in the list dataset01\n",
    "\n",
    "var1 = dataset01[0]\n",
    "a1 = var1[0]\n",
    "print(a1)\n",
    "b1 = var1[1]\n",
    "print(b1)\n",
    "\n",
    "var2= dataset01[1]\n",
    "a2 = var2[0]\n",
    "print(a2)\n",
    "\n",
    "b2 = var2[1]\n",
    "print(b2)\n",
    "\n",
    "dist = (((a2) - (a1))**2 + ((b2) - (b1))**2 )**.5\n",
    "\n",
    "print((dist))"
   ]
  },
  {
   "cell_type": "code",
   "execution_count": 3,
   "metadata": {},
   "outputs": [
    {
     "name": "stdout",
     "output_type": "stream",
     "text": [
      "0.4123105625617663\n"
     ]
    }
   ],
   "source": [
    "###15/15\n",
    "\n",
    "#Question 2\n",
    "#create a function that take two points as in input and outputs their distance\n",
    "\n",
    "import math\n",
    "def distance(p1,p2):\n",
    "    x1 = p1[0]\n",
    "    x2 = p2[0]\n",
    "    y1 = p1[1]\n",
    "    y2 = p2[1]\n",
    "    dist = ((x1 - x2)**2 + (y1-y2)**2)**.5\n",
    "    return dist\n",
    "\n",
    "#print(dataset01[0])\n",
    "#print(dataset01[1])\n",
    "\n",
    "#print(\"The distance between the points is: \")\n",
    "\n",
    "print(distance(dataset01[0],dataset01[1]))\n",
    "\n",
    "# list has iterable quality\n",
    "#p1 = (6.5, 2.8)\n",
    "#p2 = (6.4, 3.2)\n",
    "#print(distance(p1,p2))"
   ]
  },
  {
   "cell_type": "code",
   "execution_count": 6,
   "metadata": {},
   "outputs": [
    {
     "name": "stdout",
     "output_type": "stream",
     "text": [
      "test point is:  [6, 3.5]\n",
      "--------------------------------------------------\n",
      "FINAL ANSWER: \n",
      "The list of all distances is\n",
      "0.8602325267042628\n",
      "0.5000000000000001\n",
      "1.4035668847618203\n",
      "1.0440306508910548\n",
      "1.1704699910719623\n",
      "1.4317821063276353\n",
      "1.004987562112089\n",
      "1.4866068747318502\n",
      "1.334166406412633\n",
      "0.8246211251235319\n",
      "0.9848857801796107\n",
      "1.708800749063506\n",
      "1.004987562112089\n",
      "1.2083045973594568\n",
      "1.2041594578792296\n",
      "0.9000000000000004\n",
      "1.3\n",
      "1.1313708498984758\n",
      "0.7071067811865476\n",
      "1.456021977856104\n",
      "0.7211102550927976\n",
      "1.6763054614240207\n",
      "1.2083045973594568\n",
      "0.761577310586391\n",
      "1.5556349186104044\n",
      "0.6708203932499369\n",
      "1.2206555615733703\n",
      "0.8485281374238569\n",
      "0.3605551275463989\n",
      "0.3605551275463989\n"
     ]
    }
   ],
   "source": [
    "###Can just print the list, no need to use that fancy method you have\n",
    "\n",
    "#Question 2 cont.\n",
    "#Write a routine that takes the distance between every point and the test point (6,3.5), storing the results in a list\n",
    "\n",
    "testpoint=[6,3.5]\n",
    "print('test point is: ', testpoint)\n",
    "\n",
    "AnswerList = []\n",
    "for point in dataset01:\n",
    "    dist=distance(testpoint,point)\n",
    "    AnswerList.append(dist)\n",
    "print(\"--------------------------------------------------\")\n",
    "print('FINAL ANSWER: ')\n",
    "print('The list of all distances is', *AnswerList, sep='\\n')"
   ]
  },
  {
   "cell_type": "code",
   "execution_count": 7,
   "metadata": {},
   "outputs": [
    {
     "name": "stdout",
     "output_type": "stream",
     "text": [
      "the test point is:  [6, 3.5] \n",
      "\n",
      "FINAL INDEXED LIST OF DISTANCES: \n",
      "\n",
      "(0, 0.8602325267042628)\n",
      "(1, 0.5000000000000001)\n",
      "(2, 1.4035668847618203)\n",
      "(3, 1.0440306508910548)\n",
      "(4, 1.1704699910719623)\n",
      "(5, 1.4317821063276353)\n",
      "(6, 1.004987562112089)\n",
      "(7, 1.4866068747318502)\n",
      "(8, 1.334166406412633)\n",
      "(9, 0.8246211251235319)\n",
      "(10, 0.9848857801796107)\n",
      "(11, 1.708800749063506)\n",
      "(12, 1.004987562112089)\n",
      "(13, 1.2083045973594568)\n",
      "(14, 1.2041594578792296)\n",
      "(15, 0.9000000000000004)\n",
      "(16, 1.3)\n",
      "(17, 1.1313708498984758)\n",
      "(18, 0.7071067811865476)\n",
      "(19, 1.456021977856104)\n",
      "(20, 0.7211102550927976)\n",
      "(21, 1.6763054614240207)\n",
      "(22, 1.2083045973594568)\n",
      "(23, 0.761577310586391)\n",
      "(24, 1.5556349186104044)\n",
      "(25, 0.6708203932499369)\n",
      "(26, 1.2206555615733703)\n",
      "(27, 0.8485281374238569)\n",
      "(28, 0.3605551275463989)\n",
      "(29, 0.3605551275463989)\n"
     ]
    }
   ],
   "source": [
    "###10/10\n",
    "\n",
    "#Question 3\n",
    "#Similar to question 2 cont. where you are now including the index of the point being compared from dataset01\n",
    "\n",
    "#testpoint=[6,3.5]\n",
    "\n",
    "testpoint=[6,3.5]\n",
    "print('the test point is: ', testpoint, '\\n')\n",
    "\n",
    "AnswerList = []\n",
    "for point in dataset01:\n",
    "    dist=distance(testpoint,point)\n",
    "    AnswerList.append(dist)    \n",
    "\n",
    "List2 = [i for i in enumerate(AnswerList)]\n",
    "\n",
    "print('FINAL INDEXED LIST OF DISTANCES:','\\n')\n",
    "print(*List2,sep='\\n')"
   ]
  },
  {
   "cell_type": "code",
   "execution_count": 188,
   "metadata": {},
   "outputs": [
    {
     "name": "stdout",
     "output_type": "stream",
     "text": [
      "(28, 0.3605551275463989)\n",
      "(29, 0.3605551275463989)\n",
      "(1, 0.5000000000000001)\n",
      "(25, 0.6708203932499369)\n",
      "(18, 0.7071067811865476)\n",
      "(20, 0.7211102550927976)\n",
      "(23, 0.761577310586391)\n",
      "(9, 0.8246211251235319)\n",
      "(27, 0.8485281374238569)\n",
      "(0, 0.8602325267042628)\n",
      "(15, 0.9000000000000004)\n",
      "(10, 0.9848857801796107)\n",
      "(6, 1.004987562112089)\n",
      "(12, 1.004987562112089)\n",
      "(3, 1.0440306508910548)\n",
      "(17, 1.1313708498984758)\n",
      "(4, 1.1704699910719623)\n",
      "(14, 1.2041594578792296)\n",
      "(13, 1.2083045973594568)\n",
      "(22, 1.2083045973594568)\n",
      "(26, 1.2206555615733703)\n",
      "(16, 1.3)\n",
      "(8, 1.334166406412633)\n",
      "(2, 1.4035668847618203)\n",
      "(5, 1.4317821063276353)\n",
      "(19, 1.456021977856104)\n",
      "(7, 1.4866068747318502)\n",
      "(24, 1.5556349186104044)\n",
      "(21, 1.6763054614240207)\n",
      "(11, 1.708800749063506)\n"
     ]
    }
   ],
   "source": [
    "###10/10\n",
    "\n",
    "#Question 4\n",
    "#You are now sorting the list you made in question 4 based off of the distance component of each tuple\n",
    "#Hint, use a lambda function with the .sort() method (google it, there are nice examples)\n",
    "\n",
    "List2.sort(key = lambda x: x[1])\n",
    "print(*List2, sep='\\n')"
   ]
  },
  {
   "cell_type": "code",
   "execution_count": 53,
   "metadata": {},
   "outputs": [
    {
     "name": "stdout",
     "output_type": "stream",
     "text": [
      "[28, 29, 1]\n"
     ]
    }
   ],
   "source": [
    "###You have the right answer, but you should note that you do not need that counter variable, you can index through \n",
    "###dataset by calling for i in range(len(dataset)): and then call the point you want with dataset[i], and then i is \n",
    "###the index. 10/10\n",
    "\n",
    "#Question 5\n",
    "#Create a function that essentially does what the past three questions do in a single function\n",
    "#There should be an input for the list of data, and an input for the test point\n",
    "\n",
    "testpoint=[6,3.5]\n",
    "#print('test point is: ', testpoint)\n",
    "\n",
    "def distance(datapoint,testpoint):\n",
    "    x1 = datapoint[0]\n",
    "    x2 = testpoint[0]\n",
    "    y1 = datapoint[1]\n",
    "    y2 = testpoint[1]\n",
    "    dist = ((x1 - x2)**2 + (y1-y2)**2)**.5\n",
    "    return dist\n",
    "\n",
    "#AnswerList = []\n",
    "#for point in dataset01:\n",
    "#   dist=distance(testpoint,point)\n",
    "#   AnswerList.append(dist)\n",
    "\n",
    "def cluster_list(datapoint, testpoint):\n",
    "    list=[]\n",
    "    counter = 0\n",
    "    for i in datapoint:\n",
    "        list.append((counter, (distance(i, testpoint))))\n",
    "        counter = counter +1\n",
    "    #print(list)\n",
    "    list.sort(key = lambda x: x[1], reverse = False)\n",
    "# this identifies the index     \n",
    "    var=[list[i][0] for i in range(3)]\n",
    "    return var\n",
    " \n",
    "#return list[:3]\n",
    "# ID the index number\n",
    "# pull first 3\n",
    "\n",
    "#print(*list[:3])\n",
    "\n",
    "datapoint = dataset01\n",
    "testpoint = (6,3.5)\n",
    "\n",
    "FinalAnswer = cluster_list(datapoint, testpoint)\n",
    "print(FinalAnswer)\n"
   ]
  },
  {
   "cell_type": "code",
   "execution_count": 131,
   "metadata": {},
   "outputs": [
    {
     "name": "stdout",
     "output_type": "stream",
     "text": [
      "[28]\n",
      "[28, 29, 1, 25, 18]\n",
      "[28, 29, 1, 25, 18, 20, 23]\n"
     ]
    }
   ],
   "source": [
    "###10/10\n",
    "\n",
    "#QUestion 6\n",
    "#An extension of question 5, now there should be an extra input k\n",
    "\n",
    "\n",
    "testpoint=[6,3.5]\n",
    "#print('test point is: ', testpoint)\n",
    "\n",
    "def distance(datapoint,testpoint):\n",
    "    x1 = datapoint[0]\n",
    "    x2 = testpoint[0]\n",
    "    y1 = datapoint[1]\n",
    "    y2 = testpoint[1]\n",
    "    dist = ((x1 - x2)**2 + (y1-y2)**2)**.5\n",
    "    return dist\n",
    "\n",
    "def cluster_list(datapoint, testpoint, k):\n",
    "    list=[]\n",
    "    counter = 0\n",
    "    for i in datapoint:\n",
    "        list.append((counter, (distance(i, testpoint))))\n",
    "        counter = counter +1\n",
    "    list.sort(key = lambda x: x[1], reverse = False)    \n",
    "    var=[list[i][0] for i in range(k)]\n",
    "    return var\n",
    "\n",
    "\n",
    "datapoint = dataset01\n",
    "testpoint = (6,3.5)\n",
    "\n",
    "k = 1\n",
    "FinalAnswer = cluster_list(datapoint, testpoint, k)\n",
    "print(FinalAnswer)\n",
    "\n",
    "k = 5\n",
    "FinalAnswer = cluster_list(datapoint, testpoint, k)\n",
    "print(FinalAnswer)\n",
    "\n",
    "k = 7\n",
    "FinalAnswer = cluster_list(datapoint, testpoint, k)\n",
    "print(FinalAnswer)"
   ]
  },
  {
   "cell_type": "code",
   "execution_count": 4,
   "metadata": {},
   "outputs": [],
   "source": [
    "dataset02 = [\n",
    "    (6.5,2.8,1),\n",
    "(6.4,3.2,1),\n",
    "(4.6,3.4,2),\n",
    "(7,3.2,1),\n",
    "(4.9,3.1,2),\n",
    "(7.3,2.9,3),\n",
    "(5,3.6,2),\n",
    "(4.9,2.5,3),\n",
    "(4.7,3.2,2),\n",
    "(5.8,2.7,3),\n",
    "(6.9,3.1,1),\n",
    "(4.4,2.9,2),\n",
    "(5,3.4,2),\n",
    "(4.9,3,2),\n",
    "(7.2,3.6,3),\n",
    "(5.1,3.5,2),\n",
    "(5.5,2.3,1),\n",
    "(5.2,2.7,1),\n",
    "(6.5,3,3),\n",
    "(4.6,3.1,2),\n",
    "(5.4,3.9,2),\n",
    "(7.6,3,3),\n",
    "(7.1,3,3),\n",
    "(5.7,2.8,1),\n",
    "(4.9,2.4,1),\n",
    "(6.3,2.9,3),\n",
    "(6.7,2.5,3),\n",
    "(6.6,2.9,1),\n",
    "(6.3,3.3,1),\n",
    "(6.3,3.3,3)\n",
    "]"
   ]
  },
  {
   "cell_type": "code",
   "execution_count": 8,
   "metadata": {},
   "outputs": [
    {
     "name": "stdout",
     "output_type": "stream",
     "text": [
      "[<class 'list'>]\n",
      "[28, 29, 1]\n"
     ]
    },
    {
     "ename": "NameError",
     "evalue": "name 'label2' is not defined",
     "output_type": "error",
     "traceback": [
      "\u001b[0;31m---------------------------------------------------------------------------\u001b[0m",
      "\u001b[0;31mNameError\u001b[0m                                 Traceback (most recent call last)",
      "\u001b[0;32m<ipython-input-8-2570c8f6518c>\u001b[0m in \u001b[0;36m<module>\u001b[0;34m()\u001b[0m\n\u001b[1;32m     39\u001b[0m \u001b[0mFinalAnswer\u001b[0m \u001b[0;34m=\u001b[0m \u001b[0mcluster_list\u001b[0m\u001b[0;34m(\u001b[0m\u001b[0mdatapoint\u001b[0m\u001b[0;34m,\u001b[0m \u001b[0mtestpoint\u001b[0m\u001b[0;34m,\u001b[0m \u001b[0mk\u001b[0m\u001b[0;34m)\u001b[0m\u001b[0;34m\u001b[0m\u001b[0m\n\u001b[1;32m     40\u001b[0m \u001b[0mprint\u001b[0m\u001b[0;34m(\u001b[0m\u001b[0mFinalAnswer\u001b[0m\u001b[0;34m)\u001b[0m\u001b[0;34m\u001b[0m\u001b[0m\n\u001b[0;32m---> 41\u001b[0;31m \u001b[0mprint\u001b[0m \u001b[0;34m(\u001b[0m\u001b[0mstatistics\u001b[0m\u001b[0;34m.\u001b[0m\u001b[0mmode\u001b[0m\u001b[0;34m(\u001b[0m\u001b[0mlabel2\u001b[0m\u001b[0;34m)\u001b[0m\u001b[0;34m)\u001b[0m\u001b[0;34m\u001b[0m\u001b[0m\n\u001b[0m\u001b[1;32m     42\u001b[0m \u001b[0;34m\u001b[0m\u001b[0m\n\u001b[1;32m     43\u001b[0m \u001b[0mk\u001b[0m \u001b[0;34m=\u001b[0m \u001b[0;36m5\u001b[0m\u001b[0;34m\u001b[0m\u001b[0m\n",
      "\u001b[0;31mNameError\u001b[0m: name 'label2' is not defined"
     ]
    }
   ],
   "source": [
    "###So you have the same funciton as before except now you have added in the labels of those points, you can make it work\n",
    "###if you have var=[list[i][2] for i in range(k)], collected the labels of the k closest, and then returning\n",
    "### mode(var), and this should all be in the function, not outside of it. So it was close, but missing some significant\n",
    "###pieces, 2/5\n",
    "\n",
    "#Question 7\n",
    "#Make a similar function to question 6 except this time you keep track of each label of the points and return \n",
    "#the most common label of the k closest points to the test point\n",
    "#hint: import statistics to use the mode() function\n",
    "\n",
    "import statistics\n",
    "from statistics import mode\n",
    "\n",
    "testpoint=[6,3.5]\n",
    "#print('test point is: ', testpoint)\n",
    "\n",
    "def distance(datapoint,testpoint):                             #function definitng the distance\n",
    "    x1 = datapoint[0]\n",
    "    x2 = testpoint[0]\n",
    "    y1 = datapoint[1]\n",
    "    y2 = testpoint[1]\n",
    "    dist = ((x1 - x2)**2 + (y1-y2)**2)**.5\n",
    "    return dist\n",
    "\n",
    "def cluster_list(datapoint, testpoint, k):\n",
    "    list=[]\n",
    "    counter = 0\n",
    "    for i in datapoint:\n",
    "        list.append((counter, (distance(i, testpoint), label))) #appends label into the new list\n",
    "        counter = counter +1                                     \n",
    "    list.sort(key = lambda x: x[1], reverse = False)    \n",
    "    var=[list[i][0] for i in range(k)]\n",
    "    return var\n",
    "\n",
    "###Need to avoid naming variables after variable types, this always leads to problems. \n",
    "print([list])\n",
    "\n",
    "datapoint = dataset02\n",
    "testpoint = (6,3.5)\n",
    "label = dataset02[2]  \n",
    "label2 = list[3]\n",
    "\n",
    "k = 3\n",
    "FinalAnswer = cluster_list(datapoint, testpoint, k)\n",
    "print(FinalAnswer)\n",
    "print (statistics.mode(label2))\n",
    "\n",
    "k = 5\n",
    "FinalAnswer = cluster_list(datapoint, testpoint, k)\n",
    "print(FinalAnswer)\n",
    "print (statistics.multimode(label2))              #prints mode of the label column"
   ]
  },
  {
   "cell_type": "code",
   "execution_count": 155,
   "metadata": {},
   "outputs": [
    {
     "ename": "NameError",
     "evalue": "name 'a' is not defined",
     "output_type": "error",
     "traceback": [
      "\u001b[0;31m---------------------------------------------------------------------------\u001b[0m",
      "\u001b[0;31mNameError\u001b[0m                                 Traceback (most recent call last)",
      "\u001b[0;32m<ipython-input-155-9d90e9a2f276>\u001b[0m in \u001b[0;36m<module>\u001b[0;34m\u001b[0m\n\u001b[1;32m     11\u001b[0m     \u001b[0;32mreturn\u001b[0m \u001b[0mdist\u001b[0m\u001b[0;34m\u001b[0m\u001b[0;34m\u001b[0m\u001b[0m\n\u001b[1;32m     12\u001b[0m \u001b[0;34m\u001b[0m\u001b[0m\n\u001b[0;32m---> 13\u001b[0;31m \u001b[0;32mfor\u001b[0m \u001b[0mi\u001b[0m \u001b[0;32min\u001b[0m \u001b[0mrange\u001b[0m\u001b[0;34m(\u001b[0m\u001b[0mlen\u001b[0m\u001b[0;34m(\u001b[0m\u001b[0ma\u001b[0m\u001b[0;34m)\u001b[0m\u001b[0;34m)\u001b[0m \u001b[0;34m:\u001b[0m\u001b[0;34m\u001b[0m\u001b[0;34m\u001b[0m\u001b[0m\n\u001b[0m\u001b[1;32m     14\u001b[0m     \u001b[0;32mfor\u001b[0m \u001b[0mj\u001b[0m \u001b[0;32min\u001b[0m \u001b[0mrange\u001b[0m\u001b[0;34m(\u001b[0m\u001b[0mlen\u001b[0m\u001b[0;34m(\u001b[0m\u001b[0ma\u001b[0m\u001b[0;34m[\u001b[0m\u001b[0mi\u001b[0m\u001b[0;34m]\u001b[0m\u001b[0;34m)\u001b[0m\u001b[0;34m)\u001b[0m \u001b[0;34m:\u001b[0m\u001b[0;34m\u001b[0m\u001b[0;34m\u001b[0m\u001b[0m\n\u001b[1;32m     15\u001b[0m         \u001b[0mprint\u001b[0m\u001b[0;34m(\u001b[0m\u001b[0ma\u001b[0m\u001b[0;34m[\u001b[0m\u001b[0mi\u001b[0m\u001b[0;34m]\u001b[0m\u001b[0;34m[\u001b[0m\u001b[0mj\u001b[0m\u001b[0;34m]\u001b[0m\u001b[0;34m,\u001b[0m \u001b[0mend\u001b[0m\u001b[0;34m=\u001b[0m\u001b[0;34m\" \"\u001b[0m\u001b[0;34m)\u001b[0m\u001b[0;34m\u001b[0m\u001b[0;34m\u001b[0m\u001b[0m\n",
      "\u001b[0;31mNameError\u001b[0m: name 'a' is not defined"
     ]
    }
   ],
   "source": [
    "###0/5\n",
    "\n",
    "#Question 8\n",
    "#Update the distance function so the datapoints can be of any length, do not use a for loop this time to compute the \n",
    "#distance, use list comprehension\n",
    "\n",
    "def distance(datapoint,testpoint):\n",
    "    x1 = datapoint[0]\n",
    "    x2 = testpoint[0]\n",
    "    y1 = datapoint[1]\n",
    "    y2 = testpoint[1]\n",
    "    dist = ((x1 - x2)**2 + (y1-y2)**2)**.5\n",
    "    return dist\n",
    "\n",
    "for i in range(len(a)) :  \n",
    "    for j in range(len(a[i])) :  \n",
    "        print(a[i][j], end=\" \") \n",
    "    print()    \n",
    "    \n"
   ]
  },
  {
   "cell_type": "code",
   "execution_count": 9,
   "metadata": {},
   "outputs": [],
   "source": [
    "dataset03 = [\n",
    "(6.5,2.8,4.6,1.5,1),\n",
    "(6.4,3.2,4.5,1.5,1),\n",
    "(4.6,3.4,1.4,0.3,2),\n",
    "(7,3.2,4.7,1.4,1),\n",
    "(4.9,3.1,1.5,0.1,2),\n",
    "(7.3,2.9,6.3,1.8,3),\n",
    "(5,3.6,1.4,0.2,2),\n",
    "(4.9,2.5,4.5,1.7,3),\n",
    "(4.7,3.2,1.3,0.2,2),\n",
    "(5.8,2.7,5.1,1.9,3),\n",
    "(6.9,3.1,4.9,1.5,1),\n",
    "(4.4,2.9,1.4,0.2,2),\n",
    "(5,3.4,1.5,0.2,2),\n",
    "(4.9,3,1.4,0.2,2),\n",
    "(7.2,3.6,6.1,2.5,3),\n",
    "(5.1,3.5,1.4,0.2,2),\n",
    "(5.5,2.3,4,1.3,1),\n",
    "(5.2,2.7,3.9,1.4,1),\n",
    "(6.5,3,5.8,2.2,3),\n",
    "(4.6,3.1,1.5,0.2,2),\n",
    "(5.4,3.9,1.7,0.4,2),\n",
    "(7.6,3,6.6,2.1,3),\n",
    "(7.1,3,5.9,2.1,3),\n",
    "(5.7,2.8,4.5,1.3,1),\n",
    "(4.9,2.4,3.3,1,1),\n",
    "(6.3,2.9,5.6,1.8,3),\n",
    "(6.7,2.5,5.8,1.8,3),\n",
    "(6.6,2.9,4.6,1.3,1),\n",
    "(6.3,3.3,4.7,1.6,1),\n",
    "(6.3,3.3,6,2.5,3)\n",
    "]"
   ]
  },
  {
   "cell_type": "code",
   "execution_count": 10,
   "metadata": {},
   "outputs": [
    {
     "name": "stdout",
     "output_type": "stream",
     "text": [
      "[23]\n"
     ]
    }
   ],
   "source": [
    "###same comments on Q7 apply here, and you are not using the updated distance function. 0/5\n",
    "\n",
    "#Question 9\n",
    "#Time to test your new distance function! Modify your k-nearest function to include this new distance function\n",
    "#test it based on the paremeters mentioned in the HW PDF\n",
    "\n",
    "def cluster_list(datapoint, testpoint, k):\n",
    "    list=[]\n",
    "    counter = 0\n",
    "    for i in datapoint:\n",
    "        list.append((counter, (distance(i, testpoint))))\n",
    "        counter = counter +1\n",
    "    list.sort(key = lambda x: x[1], reverse = False)    \n",
    "    var=[list[i][0] for i in range(k)]\n",
    "    return var\n",
    "\n",
    "datapoint = dataset01\n",
    "testpoint = (5.8, 3, 4.4, 1.3)\n",
    "\n",
    "k = 1\n",
    "FinalAnswer = cluster_list(datapoint, testpoint, k)\n",
    "print(FinalAnswer)"
   ]
  },
  {
   "cell_type": "code",
   "execution_count": 11,
   "metadata": {},
   "outputs": [
    {
     "name": "stdout",
     "output_type": "stream",
     "text": [
      "None\n"
     ]
    }
   ],
   "source": [
    "###+0\n",
    "\n",
    "#Bonus (5 points)\n",
    "#Create a function that takes in a list of numbers and returns the mode\n",
    "#The function should make use of the dictionary datatype\n",
    "\n",
    "def mode(alist):\n",
    "    countdict = {}\n",
    "            \n",
    "    modelist = []\n",
    "    for item in countdict:\n",
    "        if coundfict[item] == maxcount:\n",
    "            modelist.append(item)\n",
    "        return modelist\n",
    "\n",
    "list1 = [1,2,3,4,4,3,2,3,4,12]\n",
    "print(mode(list1))"
   ]
  },
  {
   "cell_type": "markdown",
   "metadata": {},
   "source": [
    "Score Total = 87/100"
   ]
  },
  {
   "cell_type": "code",
   "execution_count": null,
   "metadata": {},
   "outputs": [],
   "source": []
  }
 ],
 "metadata": {
  "kernelspec": {
   "display_name": "Python 3",
   "language": "python",
   "name": "python3"
  },
  "language_info": {
   "codemirror_mode": {
    "name": "ipython",
    "version": 3
   },
   "file_extension": ".py",
   "mimetype": "text/x-python",
   "name": "python",
   "nbconvert_exporter": "python",
   "pygments_lexer": "ipython3",
   "version": "3.7.4"
  }
 },
 "nbformat": 4,
 "nbformat_minor": 2
}
